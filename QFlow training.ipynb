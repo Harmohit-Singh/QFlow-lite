{
 "cells": [
  {
   "cell_type": "markdown",
   "metadata": {},
   "source": [
    "### Step 1: Importing the QFlow class\n",
    "In Python 3.6 this might return a warning but it can be ignored (it does not affect the accuracy or performance)."
   ]
  },
  {
   "cell_type": "code",
   "execution_count": 1,
   "metadata": {},
   "outputs": [
    {
     "name": "stderr",
     "output_type": "stream",
     "text": [
      "/Users/jpz1/anaconda/envs/TFenv/lib/python3.6/site-packages/h5py/__init__.py:34: FutureWarning: Conversion of the second argument of issubdtype from `float` to `np.floating` is deprecated. In future, it will be treated as `np.float64 == np.dtype(float).type`.\n",
      "  from ._conv import register_converters as _register_converters\n"
     ]
    }
   ],
   "source": [
    "# import the QFlow class\n",
    "import os \n",
    "import QFlow_class\n",
    "qf = QFlow_class.QFlow()"
   ]
  },
  {
   "cell_type": "markdown",
   "metadata": {},
   "source": [
    "### Step 2: Create the random subregions for training\n",
    "This cell needs to be run only once, as it stores created training data set locally in the `Data/sub_images`. Argument `sub_size` allows to set the subregion size. It needs to be consistent with the `cnn_model_fn`. \n",
    "\n",
    "The progress of extracting and slicing data is visualized with a progress bar. Total time to generate 10 subregions, 30 x 30 pixels, per each data file on a 2017 MacBook Pro is about 7 minutes.\n"
   ]
  },
  {
   "cell_type": "code",
   "execution_count": 2,
   "metadata": {
    "collapsed": true
   },
   "outputs": [],
   "source": [
    "# define the size of subregions\n",
    "sub_size = 30"
   ]
  },
  {
   "cell_type": "code",
   "execution_count": 3,
   "metadata": {
    "collapsed": true
   },
   "outputs": [],
   "source": [
    "# give a path to where the raw_data.zip file is -- if the raw_data.zip file is in the same folder as QFlow training use \n",
    "path_data = os.getcwd()"
   ]
  },
  {
   "cell_type": "code",
   "execution_count": 4,
   "metadata": {
    "scrolled": false
   },
   "outputs": [
    {
     "name": "stdout",
     "output_type": "stream",
     "text": [
      "False\n",
      "Extracting raw_data.zip\n",
      "Progress: |██████████████████████████████████████████████████| 100.0% Complete\n",
      "raw_data.zip is now extracted\n",
      "Generating subregions\n",
      "Progress: |██████████████████████████████████████████████████| 100.0% Complete\n",
      "Done generating subregions\n"
     ]
    }
   ],
   "source": [
    "# create the files for training, 10 subregions per image \n",
    "# this needs to be executed only once\n",
    "qf.slice_data(sub_size = sub_size, path_data = path_data)"
   ]
  },
  {
   "cell_type": "markdown",
   "metadata": {},
   "source": [
    "### Step 2a: Previewing the subregions\n",
    "This cell allows to preview the training data together with the label for a given subregion. The format of the label is `[SC, QPC, SD, DD]` and it represents the percentage of the subregion area taken by a gien state.  "
   ]
  },
  {
   "cell_type": "code",
   "execution_count": 5,
   "metadata": {},
   "outputs": [
    {
     "data": {
      "image/png": "[encoded data removed]",
      "text/plain": [
       "<matplotlib.figure.Figure at 0x106e577b8>"
      ]
     },
     "metadata": {},
     "output_type": "display_data"
    }
   ],
   "source": [
    "qf.data_preview()"
   ]
  },
  {
   "cell_type": "markdown",
   "metadata": {},
   "source": [
    "### Step 3: Definition of the learning network\n",
    "\n",
    "Network parameters, such as the number of convolutional and pooling layers and the number and size of dense layers can be modified to improve the performance of the network. With the default architecture, on a 2017 MacBook Pro the network trains on 30 x 30 pixel subregions to the accuracy of about 96% in about 10 minutes, with accuracy defined as the percentage of correctly classified subregions.\n"
   ]
  },
  {
   "cell_type": "code",
   "execution_count": 6,
   "metadata": {
    "collapsed": true
   },
   "outputs": [],
   "source": [
    "\"\"\"Convolutional Neural Network Estimator for 5-gates device.\"\"\"\n",
    "\n",
    "from __future__ import absolute_import\n",
    "from __future__ import division\n",
    "from __future__ import print_function\n",
    "\n",
    "import numpy as np\n",
    "import tensorflow as tf\n",
    "import glob\n",
    "import os\n",
    "\n",
    "tf.logging.set_verbosity(tf.logging.INFO)\n",
    "    \n",
    "def cnn_model_fn(features, labels, mode):\n",
    "    \"\"\"Model function for CNN.\"\"\"\n",
    "    # Input Layer\n",
    "    # Reshape X to 4-D tensor: [batch_size, width, height, channels]\n",
    "    input_layer = tf.cast(tf.reshape(features[\"x\"], [-1, sub_size, sub_size, 1]), tf.float32)\n",
    "\n",
    "    # Convolutional Layer\n",
    "    conv1 = tf.layers.conv2d(\n",
    "        inputs=input_layer,\n",
    "        filters=32,\n",
    "        kernel_size=[5, 5],\n",
    "        padding=\"same\",        # preserves width and height\n",
    "        activation=tf.nn.relu)\n",
    "\n",
    "    # Pooling Layer\n",
    "    pool1 = tf.layers.max_pooling2d(inputs=conv1, pool_size=[2, 2], strides=2)\n",
    "    \n",
    "    # Flatten tensor into a batch of vectors\n",
    "    pool2_flat = tf.contrib.layers.flatten(pool1)\n",
    "\n",
    "    # Dense Layers\n",
    "    dense0 = tf.layers.dense(inputs=pool2_flat, units=1024, activation=tf.nn.relu)\n",
    "    dropout0 = tf.layers.dropout(inputs=dense0, rate=0.4, training=mode == tf.estimator.ModeKeys.TRAIN)\n",
    "\n",
    "    dense1 = tf.layers.dense(inputs=dropout0, units=512, activation=tf.nn.relu)\n",
    "    dropout1 = tf.layers.dropout(inputs=dense1, rate=0.4, training=mode == tf.estimator.ModeKeys.TRAIN)\n",
    "\n",
    "    dense2 = tf.layers.dense(inputs=dropout1, units=128, activation=tf.nn.relu)\n",
    "    dropout2 = tf.layers.dropout(inputs=dense2, rate=0.4, training=mode == tf.estimator.ModeKeys.TRAIN)\n",
    "    \n",
    "    # Logits Layer\n",
    "    logits = tf.layers.dense(inputs=dropout2, units=4)\n",
    "\n",
    "    predictions = {\n",
    "        \"state\": tf.argmax(input=logits, axis=1),\n",
    "        \"probabilities\": tf.cast(tf.nn.softmax(logits , name=\"softmax_tensor\"), tf.float64)\n",
    "    }\n",
    "    \n",
    "    if mode == tf.estimator.ModeKeys.PREDICT:\n",
    "        return tf.estimator.EstimatorSpec(mode=mode, predictions=predictions)\n",
    "\n",
    "    # Calculate Loss (for both TRAIN and EVAL modes)\n",
    "    loss = tf.losses.mean_squared_error(labels=labels, predictions=tf.nn.softmax(logits))\n",
    "    \n",
    "    # Configure the Training Op (for TRAIN mode)\n",
    "    if mode == tf.estimator.ModeKeys.TRAIN:\n",
    "        optimizer = tf.train.AdamOptimizer(learning_rate=0.001)\n",
    "        train_op = optimizer.minimize(loss=loss, global_step=tf.train.get_global_step())\n",
    "        return tf.estimator.EstimatorSpec(mode=mode, loss=loss, train_op=train_op)\n",
    "        \n",
    "    # Add evaluation metrics (for EVAL mode)\n",
    "    eval_metric_ops = {\"accuracy\": tf.metrics.accuracy(labels=tf.argmax(labels, axis=1), \\\n",
    "                                                       predictions=predictions[\"state\"])}\n",
    "    return tf.estimator.EstimatorSpec(mode=mode, loss=loss, eval_metric_ops=eval_metric_ops)"
   ]
  },
  {
   "cell_type": "markdown",
   "metadata": {},
   "source": [
    "### Step 4: Execution of training and evaluation on simulated data\n",
    "\n",
    "The code reads the subregion data and splits it into two sets (90% for training, 10% for evaluation). Then, using the `cnn_model_fn`, the network is trained to distinguish between single dots, double dots, short circuit and barrier states. The trained network is stored in the `Data/trained_model` folder (created during training). To re-train the network on a new data set this folder needs to be removed or emptied. The outcome from the network is a probability vector in the format `[SC, QPC, SD, DD]`. "
   ]
  },
  {
   "cell_type": "code",
   "execution_count": 7,
   "metadata": {
    "scrolled": true
   },
   "outputs": [
    {
     "name": "stdout",
     "output_type": "stream",
     "text": [
      "INFO:tensorflow:Using default config.\n",
      "INFO:tensorflow:Using config: {'_model_dir': 'Data/trained_model', '_tf_random_seed': None, '_save_summary_steps': 100, '_save_checkpoints_steps': None, '_save_checkpoints_secs': 600, '_session_config': None, '_keep_checkpoint_max': 5, '_keep_checkpoint_every_n_hours': 10000, '_log_step_count_steps': 100, '_service': None, '_cluster_spec': <tensorflow.python.training.server_lib.ClusterSpec object at 0x1819ec61d0>, '_task_type': 'worker', '_task_id': 0, '_global_id_in_cluster': 0, '_master': '', '_evaluation_master': '', '_is_chief': True, '_num_ps_replicas': 0, '_num_worker_replicas': 1}\n",
      "Total number of samples : 10010\n",
      "Training samples : 9009\n",
      "INFO:tensorflow:Calling model_fn.\n",
      "INFO:tensorflow:Done calling model_fn.\n",
      "INFO:tensorflow:Create CheckpointSaverHook.\n",
      "INFO:tensorflow:Graph was finalized.\n",
      "INFO:tensorflow:Running local_init_op.\n",
      "INFO:tensorflow:Done running local_init_op.\n",
      "INFO:tensorflow:Saving checkpoints for 1 into Data/trained_model/model.ckpt.\n",
      "INFO:tensorflow:\n",
      "INFO:tensorflow:loss = 0.10050236, step = 1\n",
      "INFO:tensorflow: (5.748 sec)\n",
      "INFO:tensorflow:global_step/sec: 9.3054\n",
      "INFO:tensorflow: (5.001 sec)\n",
      "INFO:tensorflow:loss = 0.011834409, step = 101 (10.749 sec)\n",
      "INFO:tensorflow: (5.125 sec)\n",
      "INFO:tensorflow:global_step/sec: 8.964\n",
      "INFO:tensorflow: (6.030 sec)\n",
      "INFO:tensorflow:loss = 0.0074035595, step = 201 (11.156 sec)\n",
      "INFO:tensorflow: (4.571 sec)\n",
      "INFO:tensorflow:global_step/sec: 11.2287\n",
      "INFO:tensorflow: (4.334 sec)\n",
      "INFO:tensorflow:loss = 0.0073688743, step = 301 (8.905 sec)\n",
      "INFO:tensorflow: (4.328 sec)\n",
      "INFO:tensorflow:global_step/sec: 10.9537\n",
      "INFO:tensorflow: (4.801 sec)\n",
      "INFO:tensorflow:loss = 0.007784912, step = 401 (9.132 sec)\n",
      "INFO:tensorflow: (6.026 sec)\n",
      "INFO:tensorflow:global_step/sec: 9.36725\n",
      "INFO:tensorflow: (4.652 sec)\n",
      "INFO:tensorflow:loss = 0.0057345233, step = 501 (10.675 sec)\n",
      "INFO:tensorflow: (5.778 sec)\n",
      "INFO:tensorflow:global_step/sec: 9.21775\n",
      "INFO:tensorflow: (5.069 sec)\n",
      "INFO:tensorflow:loss = 0.0034416874, step = 601 (10.846 sec)\n",
      "INFO:tensorflow: (5.073 sec)\n",
      "INFO:tensorflow:global_step/sec: 9.67469\n",
      "INFO:tensorflow: (5.264 sec)\n",
      "INFO:tensorflow:loss = 0.004217386, step = 701 (10.337 sec)\n",
      "INFO:tensorflow: (4.496 sec)\n",
      "INFO:tensorflow:global_step/sec: 9.04454\n",
      "INFO:tensorflow: (6.561 sec)\n",
      "INFO:tensorflow:loss = 0.0058262083, step = 801 (11.055 sec)\n",
      "INFO:tensorflow: (4.850 sec)\n",
      "INFO:tensorflow:global_step/sec: 9.88894\n",
      "INFO:tensorflow: (5.264 sec)\n",
      "INFO:tensorflow:loss = 0.0049180705, step = 901 (10.115 sec)\n",
      "INFO:tensorflow: (4.787 sec)\n",
      "INFO:tensorflow:global_step/sec: 11.0726\n",
      "INFO:tensorflow: (4.243 sec)\n",
      "INFO:tensorflow:loss = 0.005533289, step = 1001 (9.030 sec)\n",
      "INFO:tensorflow: (4.269 sec)\n",
      "INFO:tensorflow:global_step/sec: 11.2004\n",
      "INFO:tensorflow: (4.658 sec)\n",
      "INFO:tensorflow:loss = 0.0027409124, step = 1101 (8.926 sec)\n",
      "INFO:tensorflow: (4.308 sec)\n",
      "INFO:tensorflow:global_step/sec: 11.6255\n",
      "INFO:tensorflow: (4.296 sec)\n",
      "INFO:tensorflow:loss = 0.0025598495, step = 1201 (8.605 sec)\n",
      "INFO:tensorflow: (4.833 sec)\n",
      "INFO:tensorflow:global_step/sec: 10.5289\n",
      "INFO:tensorflow: (4.663 sec)\n",
      "INFO:tensorflow:loss = 0.0027307647, step = 1301 (9.496 sec)\n",
      "INFO:tensorflow: (4.402 sec)\n",
      "INFO:tensorflow:global_step/sec: 10.9047\n",
      "INFO:tensorflow: (4.768 sec)\n",
      "INFO:tensorflow:loss = 0.0016048267, step = 1401 (9.171 sec)\n",
      "INFO:tensorflow: (4.510 sec)\n",
      "INFO:tensorflow:global_step/sec: 11.0176\n",
      "INFO:tensorflow: (4.566 sec)\n",
      "INFO:tensorflow:loss = 0.0032124468, step = 1501 (9.076 sec)\n",
      "INFO:tensorflow: (5.035 sec)\n",
      "INFO:tensorflow:global_step/sec: 10.7933\n",
      "INFO:tensorflow: (4.230 sec)\n",
      "INFO:tensorflow:loss = 0.0018151063, step = 1601 (9.265 sec)\n",
      "INFO:tensorflow: (4.421 sec)\n",
      "INFO:tensorflow:global_step/sec: 11.1605\n",
      "INFO:tensorflow: (4.539 sec)\n",
      "INFO:tensorflow:loss = 0.0024550797, step = 1701 (8.961 sec)\n",
      "INFO:tensorflow: (4.915 sec)\n",
      "INFO:tensorflow:global_step/sec: 11.0319\n",
      "INFO:tensorflow: (4.150 sec)\n",
      "INFO:tensorflow:loss = 0.0018684876, step = 1801 (9.065 sec)\n",
      "INFO:tensorflow: (4.112 sec)\n",
      "INFO:tensorflow:global_step/sec: 12.002\n",
      "INFO:tensorflow: (4.219 sec)\n",
      "INFO:tensorflow:loss = 0.002234117, step = 1901 (8.332 sec)\n",
      "INFO:tensorflow: (4.823 sec)\n",
      "INFO:tensorflow:global_step/sec: 10.7495\n",
      "INFO:tensorflow: (4.481 sec)\n",
      "INFO:tensorflow:loss = 0.0016322184, step = 2001 (9.303 sec)\n",
      "INFO:tensorflow: (4.656 sec)\n",
      "INFO:tensorflow:global_step/sec: 10.2722\n",
      "INFO:tensorflow: (5.078 sec)\n",
      "INFO:tensorflow:loss = 0.0022134564, step = 2101 (9.734 sec)\n",
      "INFO:tensorflow: (4.588 sec)\n",
      "INFO:tensorflow:global_step/sec: 11.428\n",
      "INFO:tensorflow: (4.163 sec)\n",
      "INFO:tensorflow:loss = 0.0019992539, step = 2201 (8.751 sec)\n",
      "INFO:tensorflow: (4.773 sec)\n",
      "INFO:tensorflow:global_step/sec: 10.549\n",
      "INFO:tensorflow: (4.705 sec)\n",
      "INFO:tensorflow:loss = 0.0017750844, step = 2301 (9.479 sec)\n",
      "INFO:tensorflow: (4.481 sec)\n",
      "INFO:tensorflow:global_step/sec: 11.3135\n",
      "INFO:tensorflow: (4.360 sec)\n",
      "INFO:tensorflow:loss = 0.002667911, step = 2401 (8.841 sec)\n",
      "INFO:tensorflow: (4.474 sec)\n",
      "INFO:tensorflow:global_step/sec: 11.5324\n",
      "INFO:tensorflow: (4.195 sec)\n",
      "INFO:tensorflow:loss = 0.0019086461, step = 2501 (8.669 sec)\n",
      "INFO:tensorflow: (4.340 sec)\n",
      "INFO:tensorflow:global_step/sec: 10.9919\n",
      "INFO:tensorflow: (4.758 sec)\n",
      "INFO:tensorflow:loss = 0.0021968305, step = 2601 (9.097 sec)\n",
      "INFO:tensorflow: (5.236 sec)\n",
      "INFO:tensorflow:global_step/sec: 8.97506\n",
      "INFO:tensorflow: (5.906 sec)\n",
      "INFO:tensorflow:loss = 0.0018091821, step = 2701 (11.141 sec)\n",
      "INFO:tensorflow: (4.197 sec)\n",
      "INFO:tensorflow:global_step/sec: 11.4457\n",
      "INFO:tensorflow: (4.540 sec)\n",
      "INFO:tensorflow:loss = 0.002157338, step = 2801 (8.738 sec)\n",
      "INFO:tensorflow: (4.564 sec)\n",
      "INFO:tensorflow:global_step/sec: 11.1119\n",
      "INFO:tensorflow: (4.435 sec)\n",
      "INFO:tensorflow:loss = 0.002117054, step = 2901 (8.999 sec)\n",
      "INFO:tensorflow: (4.382 sec)\n",
      "INFO:tensorflow:global_step/sec: 11.2768\n",
      "INFO:tensorflow: (4.486 sec)\n",
      "INFO:tensorflow:loss = 0.0017131453, step = 3001 (8.868 sec)\n",
      "INFO:tensorflow: (4.328 sec)\n",
      "INFO:tensorflow:global_step/sec: 11.7552\n",
      "INFO:tensorflow: (4.178 sec)\n",
      "INFO:tensorflow:loss = 0.0023278408, step = 3101 (8.507 sec)\n",
      "INFO:tensorflow: (4.292 sec)\n",
      "INFO:tensorflow:global_step/sec: 11.6001\n",
      "INFO:tensorflow: (4.328 sec)\n",
      "INFO:tensorflow:loss = 0.001656789, step = 3201 (8.622 sec)\n",
      "INFO:tensorflow: (5.764 sec)\n",
      "INFO:tensorflow:global_step/sec: 9.77657\n",
      "INFO:tensorflow: (4.464 sec)\n",
      "INFO:tensorflow:loss = 0.0018481243, step = 3301 (10.228 sec)\n",
      "INFO:tensorflow: (4.106 sec)\n",
      "INFO:tensorflow:global_step/sec: 11.4255\n",
      "INFO:tensorflow: (4.647 sec)\n",
      "INFO:tensorflow:loss = 0.0020191388, step = 3401 (8.754 sec)\n",
      "INFO:tensorflow: (5.250 sec)\n",
      "INFO:tensorflow:global_step/sec: 9.95494\n",
      "INFO:tensorflow: (4.795 sec)\n",
      "INFO:tensorflow:loss = 0.0020002164, step = 3501 (10.044 sec)\n",
      "INFO:tensorflow: (4.804 sec)\n",
      "INFO:tensorflow:global_step/sec: 11.0891\n",
      "INFO:tensorflow: (4.213 sec)\n",
      "INFO:tensorflow:loss = 0.0019613558, step = 3601 (9.017 sec)\n",
      "INFO:tensorflow: (4.256 sec)\n",
      "INFO:tensorflow:global_step/sec: 12.1004\n",
      "INFO:tensorflow: (4.008 sec)\n",
      "INFO:tensorflow:loss = 0.0019489636, step = 3701 (8.264 sec)\n",
      "INFO:tensorflow: (3.980 sec)\n",
      "INFO:tensorflow:global_step/sec: 12.53\n",
      "INFO:tensorflow: (4.001 sec)\n",
      "INFO:tensorflow:loss = 0.0011763063, step = 3801 (7.981 sec)\n",
      "INFO:tensorflow: (3.933 sec)\n",
      "INFO:tensorflow:global_step/sec: 12.8841\n",
      "INFO:tensorflow: (3.829 sec)\n",
      "INFO:tensorflow:loss = 0.0012182476, step = 3901 (7.762 sec)\n",
      "INFO:tensorflow: (5.082 sec)\n",
      "INFO:tensorflow:global_step/sec: 10.4787\n",
      "INFO:tensorflow: (4.462 sec)\n",
      "INFO:tensorflow:loss = 0.0025822984, step = 4001 (9.544 sec)\n",
      "INFO:tensorflow: (4.402 sec)\n",
      "INFO:tensorflow:global_step/sec: 10.6388\n",
      "INFO:tensorflow: (4.996 sec)\n",
      "INFO:tensorflow:loss = 0.00085151487, step = 4101 (9.398 sec)\n",
      "INFO:tensorflow: (4.579 sec)\n",
      "INFO:tensorflow:global_step/sec: 11.4574\n",
      "INFO:tensorflow: (4.149 sec)\n",
      "INFO:tensorflow:loss = 0.001208594, step = 4201 (8.729 sec)\n",
      "INFO:tensorflow: (4.635 sec)\n",
      "INFO:tensorflow:global_step/sec: 11.2603\n",
      "INFO:tensorflow: (4.246 sec)\n",
      "INFO:tensorflow:loss = 0.0012896052, step = 4301 (8.881 sec)\n",
      "INFO:tensorflow: (4.365 sec)\n",
      "INFO:tensorflow:global_step/sec: 11.503\n",
      "INFO:tensorflow: (4.329 sec)\n",
      "INFO:tensorflow:loss = 0.0011794772, step = 4401 (8.692 sec)\n",
      "INFO:tensorflow: (4.011 sec)\n",
      "INFO:tensorflow:global_step/sec: 11.3851\n",
      "INFO:tensorflow: (4.772 sec)\n",
      "INFO:tensorflow:loss = 0.0011845543, step = 4501 (8.784 sec)\n"
     ]
    },
    {
     "name": "stdout",
     "output_type": "stream",
     "text": [
      "INFO:tensorflow: (4.601 sec)\n",
      "INFO:tensorflow:global_step/sec: 10.9452\n",
      "INFO:tensorflow: (4.534 sec)\n",
      "INFO:tensorflow:loss = 0.0006410919, step = 4601 (9.136 sec)\n",
      "INFO:tensorflow: (4.450 sec)\n",
      "INFO:tensorflow:global_step/sec: 10.9472\n",
      "INFO:tensorflow: (4.685 sec)\n",
      "INFO:tensorflow:loss = 0.0014529452, step = 4701 (9.135 sec)\n",
      "INFO:tensorflow: (4.308 sec)\n",
      "INFO:tensorflow:global_step/sec: 11.1247\n",
      "INFO:tensorflow: (4.683 sec)\n",
      "INFO:tensorflow:loss = 0.0020056374, step = 4801 (8.992 sec)\n",
      "INFO:tensorflow: (5.145 sec)\n",
      "INFO:tensorflow:global_step/sec: 10.6474\n",
      "INFO:tensorflow: (4.246 sec)\n",
      "INFO:tensorflow:loss = 0.0019336053, step = 4901 (9.389 sec)\n",
      "INFO:tensorflow: (5.256 sec)\n",
      "INFO:tensorflow:Saving checkpoints for 5000 into Data/trained_model/model.ckpt.\n",
      "INFO:tensorflow:Loss for final step: 0.0011773058.\n",
      "Total number of samples : 10010\n",
      "Evaluating samples: 1001\n",
      "INFO:tensorflow:Calling model_fn.\n",
      "INFO:tensorflow:Done calling model_fn.\n",
      "INFO:tensorflow:Starting evaluation at 2018-04-04-08:21:42\n",
      "INFO:tensorflow:Graph was finalized.\n",
      "INFO:tensorflow:Restoring parameters from Data/trained_model/model.ckpt-5000\n",
      "INFO:tensorflow:Running local_init_op.\n",
      "INFO:tensorflow:Done running local_init_op.\n",
      "INFO:tensorflow:Finished evaluation at 2018-04-04-08:21:42\n",
      "INFO:tensorflow:Saving dict for global step 5000: accuracy = 0.964036, global_step = 5000, loss = 0.0015210789\n",
      "Evaluation: {'accuracy': 0.964036, 'loss': 0.0015210789, 'global_step': 5000}\n",
      "INFO:tensorflow:Calling model_fn.\n",
      "INFO:tensorflow:Done calling model_fn.\n",
      "INFO:tensorflow:Graph was finalized.\n",
      "INFO:tensorflow:Restoring parameters from Data/trained_model/model.ckpt-5000\n",
      "INFO:tensorflow:Running local_init_op.\n",
      "INFO:tensorflow:Done running local_init_op.\n"
     ]
    }
   ],
   "source": [
    "# create the estimator and a place to store the trained network\n",
    "state_classifier = tf.estimator.Estimator(model_fn=cnn_model_fn, model_dir=\"Data/trained_model\")\n",
    "\n",
    "#train the network\n",
    "qf.train_net(classifier=state_classifier, batch_size=50, steps=5000)\n",
    "qf.eval_net(classifier=state_classifier)"
   ]
  },
  {
   "cell_type": "markdown",
   "metadata": {},
   "source": [
    "### Step 5: Visualization of the classification accuracy for evaluation\n",
    "A histogram showing the comparison of true data labels from the evaluation set (evals) and the labels predicted by the trained network (preds). The vertical axis represents the number of images."
   ]
  },
  {
   "cell_type": "code",
   "execution_count": 8,
   "metadata": {},
   "outputs": [
    {
     "data": {
      "image/png": "[encoded data removed]",
      "text/plain": [
       "<matplotlib.figure.Figure at 0x1c25a3f240>"
      ]
     },
     "metadata": {},
     "output_type": "display_data"
    }
   ],
   "source": [
    "qf.evaluation_visual()"
   ]
  },
  {
   "cell_type": "markdown",
   "metadata": {},
   "source": [
    "### Step 6: Evaluation of the trained network on experimental data\n",
    "\n",
    "The code reads the provided experimental data from a folder `Data/exp_data` and then applies the trained network to classify each image. The README file explains how data needs to be formated to be compatible with the network.  "
   ]
  },
  {
   "cell_type": "code",
   "execution_count": 9,
   "metadata": {},
   "outputs": [
    {
     "name": "stdout",
     "output_type": "stream",
     "text": [
      "INFO:tensorflow:Using default config.\n",
      "INFO:tensorflow:Using config: {'_model_dir': 'Data/trained_model', '_tf_random_seed': None, '_save_summary_steps': 100, '_save_checkpoints_steps': None, '_save_checkpoints_secs': 600, '_session_config': None, '_keep_checkpoint_max': 5, '_keep_checkpoint_every_n_hours': 10000, '_log_step_count_steps': 100, '_service': None, '_cluster_spec': <tensorflow.python.training.server_lib.ClusterSpec object at 0x1c25a50d68>, '_task_type': 'worker', '_task_id': 0, '_global_id_in_cluster': 0, '_master': '', '_evaluation_master': '', '_is_chief': True, '_num_ps_replicas': 0, '_num_worker_replicas': 1}\n",
      "INFO:tensorflow:Calling model_fn.\n",
      "INFO:tensorflow:Done calling model_fn.\n",
      "INFO:tensorflow:Graph was finalized.\n",
      "INFO:tensorflow:Restoring parameters from Data/trained_model/model.ckpt-5000\n",
      "INFO:tensorflow:Running local_init_op.\n",
      "INFO:tensorflow:Done running local_init_op.\n"
     ]
    },
    {
     "data": {
      "image/png": "[encoded data removed]",
      "text/plain": [
       "<matplotlib.figure.Figure at 0x1c25a99ac8>"
      ]
     },
     "metadata": {},
     "output_type": "display_data"
    },
    {
     "name": "stdout",
     "output_type": "stream",
     "text": [
      "This image is classified as a sinlge dot (sub-region label:  [0.   0.02 0.54 0.45]).\n",
      "\n"
     ]
    },
    {
     "data": {
      "image/png": "[encoded data removed]",
      "text/plain": [
       "<matplotlib.figure.Figure at 0x1c25a507b8>"
      ]
     },
     "metadata": {},
     "output_type": "display_data"
    },
    {
     "name": "stdout",
     "output_type": "stream",
     "text": [
      "This image is classified as a sinlge dot (sub-region label:  [0.   0.19 0.47 0.34]).\n",
      "\n"
     ]
    },
    {
     "data": {
      "image/png": "[encoded data removed]",
      "text/plain": [
       "<matplotlib.figure.Figure at 0x1c23d030f0>"
      ]
     },
     "metadata": {},
     "output_type": "display_data"
    },
    {
     "name": "stdout",
     "output_type": "stream",
     "text": [
      "This image is classified as a double dot (sub-region label:  [0.  0.  0.1 0.9]).\n",
      "\n"
     ]
    },
    {
     "data": {
      "image/png": "[encoded data removed]",
      "text/plain": [
       "<matplotlib.figure.Figure at 0x1c23e37080>"
      ]
     },
     "metadata": {},
     "output_type": "display_data"
    },
    {
     "name": "stdout",
     "output_type": "stream",
     "text": [
      "This image is classified as a double dot (sub-region label:  [0.   0.03 0.43 0.54]).\n",
      "\n"
     ]
    }
   ],
   "source": [
    "# assign the estimator\n",
    "state_classifier = tf.estimator.Estimator(model_fn=cnn_model_fn, model_dir=\"Data/trained_model\")\n",
    "\n",
    "# evaluate the experimental data\n",
    "exp_preds = qf.eval_exp(scaling = 10**2, classifier=state_classifier)\n",
    "qf.exp_visual(exp_preds = exp_preds)"
   ]
  }
 ],
 "metadata": {
  "kernelspec": {
   "display_name": "Python 3",
   "language": "python",
   "name": "python3"
  },
  "language_info": {
   "codemirror_mode": {
    "name": "ipython",
    "version": 3
   },
   "file_extension": ".py",
   "mimetype": "text/x-python",
   "name": "python",
   "nbconvert_exporter": "python",
   "pygments_lexer": "ipython3",
   "version": "3.6.4"
  }
 },
 "nbformat": 4,
 "nbformat_minor": 2
}
